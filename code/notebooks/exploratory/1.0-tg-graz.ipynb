{
 "cells": [
  {
   "cell_type": "code",
   "execution_count": null,
   "metadata": {},
   "outputs": [],
   "source": [
    "from project_package.data import config\n",
    "\n",
    "%load_ext autoreload\n",
    "%autoreload 2\n",
    "\n",
    "import pandas as pd\n",
    "import xarray as xr\n",
    "import matplotlib.pyplot as plt\n",
    "from matplotlib.colors import LinearSegmentedColormap"
   ]
  },
  {
   "cell_type": "markdown",
   "metadata": {},
   "source": [
    "## Initial Exploration"
   ]
  },
  {
   "cell_type": "code",
   "execution_count": null,
   "metadata": {},
   "outputs": [],
   "source": [
    "graz_file = config.RAW_DATA_FOLDER / \"graz_may_2024_inca_20240501T0000_20240515T2300.nc\"\n",
    "graz_file.exists()"
   ]
  },
  {
   "cell_type": "code",
   "execution_count": null,
   "metadata": {},
   "outputs": [],
   "source": [
    "graz = xr.open_dataset(graz_file)"
   ]
  },
  {
   "cell_type": "code",
   "execution_count": null,
   "metadata": {},
   "outputs": [],
   "source": [
    "graz"
   ]
  },
  {
   "cell_type": "code",
   "execution_count": null,
   "metadata": {},
   "outputs": [],
   "source": [
    "graz_latest = graz.isel(time=-1)"
   ]
  },
  {
   "cell_type": "markdown",
   "metadata": {},
   "source": [
    "We now selected only the latest time slice in the dataset. Thats what we want to have as our intermediate data. Now lets save it."
   ]
  },
  {
   "cell_type": "code",
   "execution_count": null,
   "metadata": {},
   "outputs": [],
   "source": [
    "graz_latest.to_netcdf(config.INTERMEDIATE_DATA_FOLDER / \"graz_latest.nc\")"
   ]
  },
  {
   "cell_type": "markdown",
   "metadata": {},
   "source": [
    "## Now making a Figure out of it"
   ]
  },
  {
   "cell_type": "code",
   "execution_count": null,
   "metadata": {},
   "outputs": [],
   "source": [
    "graz[\"T2M\"].isel(time=0).plot()"
   ]
  },
  {
   "cell_type": "code",
   "execution_count": null,
   "metadata": {},
   "outputs": [],
   "source": [
    "graz_latest.T2M.plot()"
   ]
  },
  {
   "cell_type": "code",
   "execution_count": null,
   "metadata": {},
   "outputs": [],
   "source": [
    "def plot_latest_t2m(data):\n",
    "    \"\"\"\n",
    "    Plots the latest T2M data from an xarray dataset with a custom colormap.\n",
    "\n",
    "    Parameters:\n",
    "    data (xr.Dataset): The xarray dataset containing the T2M data variable.\n",
    "\n",
    "    Returns:\n",
    "    matplotlib.figure.Figure: The figure object containing the plot.\n",
    "    \"\"\"\n",
    "\n",
    "    latest_t2m = data.T2M\n",
    "\n",
    "    colors = [(0, \"blue\"), (1, \"red\")]  # 0 degrees as blue, 30 degrees as red\n",
    "    custom_cmap = LinearSegmentedColormap.from_list(\"custom_cmap\", colors)\n",
    "\n",
    "    # Create the plot\n",
    "    fig, ax = plt.subplots(figsize=(12, 8))\n",
    "    plot = latest_t2m.plot(ax=ax, cmap=custom_cmap, cbar_kwargs={\"label\": \"Air Temperature [°C]\", \"shrink\": 0.8})\n",
    "\n",
    "    # Customize the plot\n",
    "    ax.set_title(\"Latest Temperature at 2 Meters (T2M)\", fontsize=18, pad=20)\n",
    "    ax.set_xlabel(\"X Coordinate of Projection [m]\", fontsize=14)\n",
    "    ax.set_ylabel(\"Y Coordinate of Projection [m]\", fontsize=14)\n",
    "\n",
    "    # Set colorbar limits\n",
    "    plot.set_clim(0, 30)\n",
    "    plt.close(\"all\")\n",
    "\n",
    "    return fig"
   ]
  },
  {
   "cell_type": "code",
   "execution_count": null,
   "metadata": {},
   "outputs": [],
   "source": [
    "plot = plot_latest_t2m(graz_latest)"
   ]
  },
  {
   "cell_type": "code",
   "execution_count": null,
   "metadata": {},
   "outputs": [],
   "source": [
    "plot.savefig(config.FIGURES_FOLDER / \"latest_t2m.png\")"
   ]
  },
  {
   "cell_type": "code",
   "execution_count": null,
   "metadata": {},
   "outputs": [],
   "source": []
  }
 ],
 "metadata": {
  "kernelspec": {
   "display_name": "base",
   "language": "python",
   "name": "python3"
  },
  "language_info": {
   "codemirror_mode": {
    "name": "ipython",
    "version": 3
   },
   "file_extension": ".py",
   "mimetype": "text/x-python",
   "name": "python",
   "nbconvert_exporter": "python",
   "pygments_lexer": "ipython3",
   "version": "3.12.2"
  }
 },
 "nbformat": 4,
 "nbformat_minor": 2
}
